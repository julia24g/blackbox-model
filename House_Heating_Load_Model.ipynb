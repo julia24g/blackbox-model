{
 "cells": [
  {
   "cell_type": "markdown",
   "id": "924eb544",
   "metadata": {},
   "source": [
    "======================================= House Heating Load Model (Middle Floor) =============================================\n",
    "==================== Programmed by Uzair Jamil & Nima Asgari (FAST Research Group-Western University) =======================\n",
    "====================================== https://www.appropedia.org/Category:FAST ============================================="
   ]
  },
  {
   "cell_type": "code",
   "execution_count": 1,
   "id": "4da434d6",
   "metadata": {},
   "outputs": [],
   "source": [
    "import numpy as np\n",
    "import csv"
   ]
  },
  {
   "cell_type": "code",
   "execution_count": 2,
   "id": "a9e6deac",
   "metadata": {},
   "outputs": [],
   "source": [
    "with open('London2020-Temp-RH-Pressure.csv', 'r') as csvfile:\n",
    "    datareader = csv.reader(csvfile)\n",
    "    df = np.delete(list(datareader), 0, 0)\n",
    "    \n",
    "col_Temp = [0]\n",
    "col_RH = [1]\n",
    "col_Pressure = [2]\n",
    "Temp_list=[]\n",
    "RH_list=[]\n",
    "Pressure_list=[]\n",
    "for row in df:\n",
    "        temp = list(row[i] for i in col_Temp) # storing temperatures\n",
    "        rh = list(row[i] for i in col_RH)\n",
    "        pressure = list(row[i] for i in col_Pressure) # storing pressure\n",
    "        Temp_list.append(temp)\n",
    "        RH_list.append(rh)\n",
    "        Pressure_list.append(pressure)\n",
    "\n",
    "df_temp = [float(i) for i in np.array(Temp_list)] # converting to floats\n",
    "df_rh = [float(i) for i in np.array(RH_list)]\n",
    "df_pressure = [float(i) for i in np.array(Pressure_list)]\n",
    "\n",
    "df_temp2 = np.array(df_temp)\n",
    "df_rh2 = np.array(df_rh)\n",
    "df_pressure2 = np.array(df_pressure)\n",
    "\n"
   ]
  },
  {
   "cell_type": "code",
   "execution_count": 3,
   "id": "29f1be00",
   "metadata": {},
   "outputs": [],
   "source": [
    "# Inputs for the program - temperatures (T) in centigrade, pressure in (kPa), humidity ratio (w) in in kgw/kga\n",
    "# Enthalpies (h) in J/kg, specific volume (ν) in m3/kg, specific heat (Cp) in kJ/kg-K, area (A) in m2,\n",
    "# Overall heat transfer coefficients (ht) in W/m2-K and ACH (Air Changes Per Hour) is dimensionless\n",
    "\n",
    "# All windows and doors are double glazing with 0.0127 m air space (wood/vinyl)\n",
    "\n",
    "T_Outside = df_temp2.T.reshape(365, 24)\n",
    "RH_Outside = df_rh2.T.reshape(365, 24)\n",
    "P_Outside = df_pressure2.T.reshape(365, 24)\n",
    "P_sat = 0.623692418 + 0.0424692499*T_Outside + 0.00134403923*(T_Outside)**2 + 0.0000309447379*(T_Outside)**3 + 3.74294905E-07*(T_Outside)**4\n",
    "w_Outside = 0.622*RH_Outside*P_sat/(P_Outside-RH_Outside*P_sat)\n",
    "\n",
    "T_Inside = 22.22\n",
    "w_Inside = 0.005\n",
    "h_Sat_Vapor_Inside = 2541150\n",
    "h_Sat_Water_Inside = 93040\n",
    "ν_Inside = 0.84589887\n",
    "Cp_Air = 1000\n",
    "ht_Wall = 0.6809\n",
    "ht_Window = 2.89\n",
    "ht_Door = 2.89\n",
    "ACH = 0.5\n"
   ]
  },
  {
   "cell_type": "code",
   "execution_count": 4,
   "id": "f494fd94",
   "metadata": {},
   "outputs": [
    {
     "name": "stdout",
     "output_type": "stream",
     "text": [
      "140.4175378346429\n",
      "566.0071112898648\n",
      "29.897289330891873\n"
     ]
    }
   ],
   "source": [
    "# Partition 1 - Bedroom\n",
    "#-----------------------\n",
    "# Sensible heat transfer (Sen_HT) in Watts, latent heat transfer (Lat_HT) in Watts, infiltration in m3/hr,\n",
    "# Mass flow rate (m) in kg/s\n",
    "# For mass flow rate (m) due to infiltration, specific volume of inside air at 22.22 C & 30% RH is considered\n",
    "\n",
    "# Windows: North facing assumed to be 0.9144 m high and west facing 1.8288 m high\n",
    "\n",
    "A_North_Wall = 8.36127\n",
    "A_West_Wall = 6.401019\n",
    "A_North_Window = 0.408773\n",
    "A_West_Window = 2.74064\n",
    "A_Floor = 15.784226\n",
    "Height_Of_Roof = 2.4384\n",
    "Infiltration_1 = A_Floor * ACH * Height_Of_Roof\n",
    "m_1 = Infiltration_1/(ν_Inside*3600)\n",
    "\n",
    "Sen_HT_North_Wall = ht_Wall * A_North_Wall * (T_Inside - T_Outside)\n",
    "Sen_HT_West_Wall = ht_Wall * A_West_Wall * (T_Inside - T_Outside)\n",
    "Sen_HT_North_Window = ht_Window * A_North_Window * (T_Inside - T_Outside)\n",
    "Sen_HT_West_Window = ht_Window * A_West_Window * (T_Inside - T_Outside)\n",
    "Sen_HT_Infiltration_1 = m_1 * Cp_Air * (T_Inside - T_Outside)\n",
    "Tot_Lat_HT_Infiltration_1 = m_1 * (w_Inside - w_Outside) * (h_Sat_Vapor_Inside - h_Sat_Water_Inside)\n",
    "Tot_Sen_HT_1 = Sen_HT_North_Wall + Sen_HT_West_Wall + Sen_HT_North_Window + Sen_HT_West_Window + Sen_HT_Infiltration_1\n",
    "print(Sen_HT_Infiltration_1[0,0])\n",
    "print(Tot_Sen_HT_1[0,0])\n",
    "print(Tot_Lat_HT_Infiltration_1[0,0])"
   ]
  },
  {
   "cell_type": "code",
   "execution_count": 5,
   "id": "cd4161de",
   "metadata": {},
   "outputs": [
    {
     "name": "stdout",
     "output_type": "stream",
     "text": [
      "69.5889176313791\n",
      "189.16949206245508\n",
      "14.816667751993949\n"
     ]
    }
   ],
   "source": [
    "# Partition 2 - Bathroom\n",
    "#-----------------------\n",
    "# Sensible heat transfer in Watts, latent heat transfer in Watts, infiltration in m3/hr, mass flow rate in kg/hr\n",
    "# For mass flow rate (m) due to infiltration, specific volume of inside air at 22.22 C & 30% RH is considered\n",
    "\n",
    "# Window: Assumed to be 0.9144 m high\n",
    "\n",
    "A_North_Wall = 6.168762\n",
    "A_North_Window = 0.408773\n",
    "A_Floor = 7.822436\n",
    "Height_Of_Roof = 2.4384\n",
    "\n",
    "Sen_HT_North_Wall = ht_Wall * A_North_Wall * (T_Inside - T_Outside)\n",
    "Sen_HT_North_Window = ht_Window * A_North_Window * (T_Inside - T_Outside)\n",
    "Infiltration_2 = A_Floor * ACH * Height_Of_Roof\n",
    "\n",
    "m_2 = Infiltration_2/(ν_Inside*3600)\n",
    "Sen_HT_Infiltration_2 = m_2 * Cp_Air * (T_Inside - T_Outside)\n",
    "Tot_Lat_HT_Infiltration_2 = m_2 * (w_Inside - w_Outside) * (h_Sat_Vapor_Inside - h_Sat_Water_Inside)\n",
    "Tot_Sen_HT_2 = Sen_HT_North_Wall + Sen_HT_North_Window + Sen_HT_Infiltration_2\n",
    "\n",
    "print(Sen_HT_Infiltration_2[0,0])\n",
    "print(Tot_Sen_HT_2[0,0])\n",
    "print(Tot_Lat_HT_Infiltration_2[0,0])"
   ]
  },
  {
   "cell_type": "code",
   "execution_count": 6,
   "id": "fefe2c58",
   "metadata": {},
   "outputs": [
    {
     "name": "stdout",
     "output_type": "stream",
     "text": [
      "185.62554629292742\n",
      "655.7038937791474\n",
      "39.52284558115452\n"
     ]
    }
   ],
   "source": [
    "# Partition 3 - Bathroom\n",
    "#-----------------------\n",
    "# Sensible heat transfer in Watts, latent heat transfer in Watts, infiltration in m3/hr, mass flow rate in kg/hr\n",
    "# For mass flow rate (m) due to infiltration, specific volume of inside air at 22.22 C & 30% RH is considered\n",
    "\n",
    "# Windows: Assumed to be 0.9144 m\n",
    "# Doors: Doors are considered 2.1336 m high\n",
    "\n",
    "A_North_Wall = 8.955853\n",
    "A_East_Wall = 10.600237\n",
    "A_North_Window_1 = 0.408773\n",
    "A_North_Window_2 = 0.408773\n",
    "A_North_Door = 1.895222\n",
    "A_Floor = 20.866023\n",
    "Height_Of_Roof = 2.4384\n",
    "\n",
    "Sen_HT_North_Wall = ht_Wall * A_North_Wall * (T_Inside - T_Outside)\n",
    "Sen_HT_East_Wall = ht_Wall * A_East_Wall * (T_Inside - T_Outside)\n",
    "Sen_HT_North_Window_1 = ht_Window * A_North_Window_1 * (T_Inside - T_Outside)\n",
    "Sen_HT_North_Window_2 = ht_Window * A_North_Window_2 * (T_Inside - T_Outside)\n",
    "Sen_HT_North_Door = ht_Door * A_North_Door * (T_Inside - T_Outside)\n",
    "\n",
    "Infiltration_3 = A_Floor * ACH * Height_Of_Roof\n",
    "m_3 = Infiltration_3/(ν_Inside*3600)\n",
    "Sen_HT_Infiltration_3 = m_3 * Cp_Air * (T_Inside - T_Outside)\n",
    "Tot_Lat_HT_Infiltration_3 = m_3 * (w_Inside - w_Outside) * (h_Sat_Vapor_Inside - h_Sat_Water_Inside)\n",
    "Tot_Sen_HT_3 = Sen_HT_North_Wall + Sen_HT_East_Wall + Sen_HT_North_Window_1 + Sen_HT_North_Window_2 + Sen_HT_North_Door + Sen_HT_Infiltration_3\n",
    "\n",
    "print(Sen_HT_Infiltration_3[0,0])\n",
    "print(Tot_Sen_HT_3[0,0])\n",
    "print(Tot_Lat_HT_Infiltration_3[0,0])"
   ]
  },
  {
   "cell_type": "code",
   "execution_count": 7,
   "id": "d75356a1",
   "metadata": {},
   "outputs": [
    {
     "name": "stdout",
     "output_type": "stream",
     "text": [
      "248.8506265489317\n",
      "1264.3751005608256\n",
      "52.98454378874314\n"
     ]
    }
   ],
   "source": [
    "# Partition 4 - Dining and Living Space\n",
    "#--------------------------------------\n",
    "# Sensible heat transfer in Watts, latent heat transfer in Watts, infiltration in m3/hr, mass flow rate in kg/hr\n",
    "# For mass flow rate (m) due to infiltration, specific volume of inside air at 22.22 C & 30% RH is considered\n",
    "\n",
    "# Windows: Windows are considered 1.8288 m high\n",
    "# Doors: Doors are considered 2.1336 m high\n",
    "\n",
    "A_East_Wall = 4.57083\n",
    "A_South_Wall = 11.092623\n",
    "A_East_Window = 2.74064\n",
    "A_South_Window_1 = 2.74064\n",
    "A_South_Window_2 = 2.74064\n",
    "A_South_Door = 3.90193\n",
    "A_Floor = 27.973105\n",
    "Height_Of_Roof = 2.4384\n",
    "\n",
    "Sen_HT_East_Wall = ht_Wall * A_East_Wall * (T_Inside - T_Outside)\n",
    "Sen_HT_South_Wall = ht_Wall * A_South_Wall * (T_Inside - T_Outside)\n",
    "Sen_HT_East_Window = ht_Window * A_East_Window * (T_Inside - T_Outside)\n",
    "Sen_HT_South_Window_1 = ht_Window * A_South_Window_1 * (T_Inside - T_Outside)\n",
    "Sen_HT_South_Window_2 = ht_Window * A_South_Window_2 * (T_Inside - T_Outside)\n",
    "Sen_HT_South_Door = ht_Door * A_South_Door * (T_Inside - T_Outside)\n",
    "\n",
    "Infiltration_4 = A_Floor * ACH * Height_Of_Roof\n",
    "m_4 = Infiltration_4/(ν_Inside*3600)\n",
    "Sen_HT_Infiltration_4 = m_4 * Cp_Air * (T_Inside - T_Outside)\n",
    "Tot_Lat_HT_Infiltration_4 = m_4 * (w_Inside - w_Outside) * (h_Sat_Vapor_Inside - h_Sat_Water_Inside)\n",
    "Tot_Sen_HT_4 = Sen_HT_East_Wall + Sen_HT_South_Wall + Sen_HT_East_Window + Sen_HT_South_Window_1 + Sen_HT_South_Window_2 + Sen_HT_South_Door + Sen_HT_Infiltration_4\n",
    "\n",
    "print(Sen_HT_Infiltration_4[0,0])\n",
    "print(Tot_Sen_HT_4[0,0])\n",
    "print(Tot_Lat_HT_Infiltration_4[0,0])"
   ]
  },
  {
   "cell_type": "code",
   "execution_count": 8,
   "id": "78bb64a1",
   "metadata": {},
   "outputs": [
    {
     "name": "stdout",
     "output_type": "stream",
     "text": [
      "115.21015731493608\n",
      "563.8150557785921\n",
      "24.53020797984976\n"
     ]
    }
   ],
   "source": [
    "# Partition 5 - Side Space\n",
    "#-------------------------\n",
    "# Sensible heat transfer in Watts, latent heat transfer in Watts, infiltration in m3/hr, mass flow rate in kg/hr\n",
    "# For mass flow rate (m) due to infiltration, specific volume of inside air at 22.22 C & 30% RH is considered\n",
    "\n",
    "# Doors: Doors are considered 2.1336 m high\n",
    "\n",
    "A_West_Wall = 13.164361\n",
    "A_South_Wall = 5.85289\n",
    "A_East_Door = 1.923093\n",
    "A_East_Wall = 2.471221\n",
    "A_Floor = 12.950684\n",
    "Height_Of_Roof = 2.4384\n",
    "\n",
    "Sen_HT_West_Wall = ht_Wall * A_West_Wall * (T_Inside - T_Outside)\n",
    "Sen_HT_South_Wall = ht_Wall * A_South_Wall * (T_Inside - T_Outside)\n",
    "Sen_HT_East_Door = ht_Door * A_East_Door * (T_Inside - T_Outside)\n",
    "Sen_HT_East_Wall = ht_Wall * A_East_Wall * (T_Inside - T_Outside)\n",
    "\n",
    "Infiltration_5 = A_Floor * ACH * Height_Of_Roof\n",
    "m_5 = Infiltration_5/(ν_Inside*3600)\n",
    "Sen_HT_Infiltration_5 = m_5 * Cp_Air * (T_Inside - T_Outside)\n",
    "Tot_Lat_HT_Infiltration_5 = m_5 * (w_Inside - w_Outside) * (h_Sat_Vapor_Inside - h_Sat_Water_Inside)\n",
    "Tot_Sen_HT_5 = Sen_HT_East_Wall + Sen_HT_South_Wall + Sen_HT_West_Wall + Sen_HT_East_Door + Sen_HT_Infiltration_5\n",
    "\n",
    "print(Sen_HT_Infiltration_5[0,0])\n",
    "print(Tot_Sen_HT_5[0,0])\n",
    "print(Tot_Lat_HT_Infiltration_5[0,0])"
   ]
  },
  {
   "cell_type": "code",
   "execution_count": 9,
   "id": "bb0dc7f0",
   "metadata": {},
   "outputs": [
    {
     "name": "stdout",
     "output_type": "stream",
     "text": [
      "Total Sensible Heat Transfer Rate is:  3239.070653470885\n",
      "Total Latent Heat Transfer Rate is:  161.75155443263324\n",
      "Total Heat Transfer Rate is:  3400.8222079035186\n"
     ]
    }
   ],
   "source": [
    "# Overall Results\n",
    "#----------------\n",
    "\n",
    "Total_Sen_HT = Tot_Sen_HT_1 + Tot_Sen_HT_2 + Tot_Sen_HT_3 + Tot_Sen_HT_4 + Tot_Sen_HT_5\n",
    "Total_Lat_HT = Tot_Lat_HT_Infiltration_1 + Tot_Lat_HT_Infiltration_2 + Tot_Lat_HT_Infiltration_3 + Tot_Lat_HT_Infiltration_4 + Tot_Lat_HT_Infiltration_5\n",
    "Total_HT = Total_Sen_HT + Total_Lat_HT\n",
    "\n",
    "print ('Total Sensible Heat Transfer Rate is: ', Total_Sen_HT [0,0])\n",
    "print ('Total Latent Heat Transfer Rate is: ', Total_Lat_HT [0,0])\n",
    "print ('Total Heat Transfer Rate is: ', Total_HT [0,0]) # This is in W, need to convert to kW for heating.py "
   ]
  },
  {
   "cell_type": "code",
   "execution_count": null,
   "id": "a7e22813",
   "metadata": {},
   "outputs": [],
   "source": []
  }
 ],
 "metadata": {
  "kernelspec": {
   "display_name": "Python 3 (ipykernel)",
   "language": "python",
   "name": "python3"
  },
  "language_info": {
   "codemirror_mode": {
    "name": "ipython",
    "version": 3
   },
   "file_extension": ".py",
   "mimetype": "text/x-python",
   "name": "python",
   "nbconvert_exporter": "python",
   "pygments_lexer": "ipython3",
   "version": "3.10.9"
  }
 },
 "nbformat": 4,
 "nbformat_minor": 5
}
